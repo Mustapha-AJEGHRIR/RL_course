{
 "cells": [
  {
   "cell_type": "markdown",
   "metadata": {
    "colab_type": "text",
    "id": "StGsDuF_Whon"
   },
   "source": [
    "# Pratical Session : Stochastic Bandits\n",
    "\n",
    "Code adapted from https://github.com/yfletberliac/rlss-2019 (Practical Sessions of RLSS 2019: Bandits, RL & Deep RL. https://rlss.inria.fr/program/)"
   ]
  },
  {
   "cell_type": "code",
   "execution_count": 1,
   "metadata": {
    "colab": {},
    "colab_type": "code",
    "id": "ld0sIxwm2afO"
   },
   "outputs": [],
   "source": [
    "import sys\n",
    "sys.path.insert(0,'Utils')"
   ]
  },
  {
   "cell_type": "code",
   "execution_count": 4,
   "metadata": {
    "colab": {},
    "colab_type": "code",
    "id": "xm3EFUiMWho1"
   },
   "outputs": [],
   "source": [
    "import numpy as np\n",
    "from matplotlib import pyplot as plt\n",
    "import time\n",
    "from scipy.optimize import linprog\n",
    "\n",
    "\n",
    "# Bandit specific functions and classes \n",
    "import Utils.Arms as arm\n",
    "from Utils.StochasticBandit import *\n",
    "from Utils.BanditTools import * \n",
    "import Utils.BanditBaselines as alg"
   ]
  },
  {
   "cell_type": "markdown",
   "metadata": {},
   "source": [
    "# Part 1 :  Unstructured Stochastic Bandits"
   ]
  },
  {
   "cell_type": "markdown",
   "metadata": {},
   "source": [
    "We study the classical multi-armed bandit problem specified by a set of real-valued\n",
    "distributions $ (\\nu_a)_{a \\in \\mathcal{A}}$ with means $(\\mu_a)_{a \\in \\mathcal{A}} \\in \\mathbb{R}^\\mathcal{A}$, where $\\mathcal{A}$ is a finite set of arms. \n",
    "\n",
    "At each time $t \\geq 1$, a learner must choose an arm $a_t \\in \\mathcal{A}$, based only on\n",
    "the past. The learner then receives and observes a reward $X_t$ sampled according to $\\nu_{a_t}$. The goal of the learner is simply to maximize the expected sum of rewards received over time, or equivalently minimize regret\n",
    "with respect to the strategy constantly receiving the highest mean reward.\n",
    "\n",
    "On a  bandit instance, the Lai and Robbins lower bound tells us that the regret is **asymptotically** no smaller than \n",
    "\n",
    "$$\\left(\\sum_{a \\in \\mathcal{A}} \\frac{\\Delta_a}{\\mathrm{KL}(\\mu_a,\\mu_\\star)}\\right) \\log(T),$$\n",
    "where $\\mathrm{KL}(\\mu_a,\\mu_\\star)$ is the KL-divergence between the distribution of mean $\\mu_a$ and the distribution of mean $\\mu_\\star$. The constant in front of the $\\log(T)$ may be called the **complexity** of the bandit problem."
   ]
  },
  {
   "cell_type": "markdown",
   "metadata": {},
   "source": [
    "####  Creating a bandit environnement\n",
    "\n",
    "Different arm classes are defined in `Arms.py` (you are welcome to add more!). To define a multi-armed bandit (a `MAB` object), you need to input a list of such arms. Some functions in `StochasticBandits.py` also define directly some particular MAB objects. "
   ]
  },
  {
   "cell_type": "code",
   "execution_count": 8,
   "metadata": {},
   "outputs": [
    {
     "name": "stdout",
     "output_type": "stream",
     "text": [
      "The means of bandit instance are [-1, 0, 1]\n"
     ]
    }
   ],
   "source": [
    "nbArms = 3\n",
    "bandit = GaussianBandit([-1, 0, 1]) # directly creates a Gaussian bandit from a vector of means\n",
    "\n",
    "print(\"The means of bandit instance are\", bandit.means)"
   ]
  },
  {
   "cell_type": "markdown",
   "metadata": {},
   "source": [
    "#### Executing strategy\n",
    "\n",
    "The function given below executes one bandit algorithm on one MAB instance. "
   ]
  },
  {
   "cell_type": "code",
   "execution_count": 10,
   "metadata": {},
   "outputs": [],
   "source": [
    "def OneBanditOneLearnerOneRun(bandit, learner, timeHorizon):\n",
    "    \"\"\"\n",
    "    Run a bandit strategy (learner) on a MAB instance (bandit) for (timeHorizon) time steps\n",
    "    output : sequence of arms chosen, sequence of rewards obtained\n",
    "    \"\"\"\n",
    "    selections = []\n",
    "    rewards = []\n",
    "    learner.clear() # reset previous history\n",
    "    for t in range(timeHorizon):\n",
    "        arm = learner.chooseArmToPlay()\n",
    "        reward = bandit.generateReward(arm)\n",
    "        learner.receiveReward(arm, reward)\n",
    "        # Update statistics\n",
    "        selections.append(arm)\n",
    "        rewards.append(reward)\n",
    "    return selections, rewards\n",
    "    \n",
    "def CumulativeRegret(bandit,selections):\n",
    "    \"\"\"Compute the pseudo-regret associated to a sequence of arm selections\"\"\"\n",
    "    return np.cumsum(max(bandit.means)*np.ones(len(selections)) - np.array(bandit.means)[selections])"
   ]
  },
  {
   "cell_type": "markdown",
   "metadata": {},
   "source": [
    "#### Comparison averaged over multiple runs\n",
    "\n",
    "The regret is defined as an **expectation**, so we need several runs to **estimate** its value. We can also take a look at the distribution of the pseudo-regret. The function below gathers results accross multiple runs."
   ]
  },
  {
   "cell_type": "code",
   "execution_count": 11,
   "metadata": {},
   "outputs": [],
   "source": [
    "def OneBanditOneLearnerMultipleRuns(bandit, learner, timeHorizon, N_exp, tsave=[]):\n",
    "    if (len(tsave) == 0):\n",
    "        tsave = np.arange(timeHorizon)\n",
    "    savedTimes = len(tsave)\n",
    "    Regret = np.zeros((N_exp, savedTimes)) # Store the regret values on different runs\n",
    "    for n in range(N_exp):\n",
    "        np.random.seed()\n",
    "        selections, rewards = OneBanditOneLearnerOneRun(bandit, learner, timeHorizon)\n",
    "        regret_one_run = CumulativeRegret(bandit, selections)\n",
    "        Regret[n, :] = np.array(regret_one_run)[tsave] # Store a sub-sampling of the cumulative regret\n",
    "    return Regret"
   ]
  },
  {
   "cell_type": "markdown",
   "metadata": {},
   "source": [
    "## I. Trivial Strategies : Follow The Leader (FTL) and Uniform Exploration (UE)"
   ]
  },
  {
   "cell_type": "markdown",
   "metadata": {},
   "source": [
    "We first implemented two strategies for unstructured stochastic bandits: the Follow The Leader algorithm (`FTL`) and the Uniform Exploration algorithm (`UE`). Such strategies (as the one you will implement) are defined as objects in `BanditBaselines.py`."
   ]
  },
  {
   "cell_type": "markdown",
   "metadata": {},
   "source": [
    " Below we run `FTL` on the bandit instance introduced before, and visualize its behavior."
   ]
  },
  {
   "cell_type": "code",
   "execution_count": 12,
   "metadata": {},
   "outputs": [],
   "source": [
    "timeHorizon = 500\n",
    "# nbArms = 7\n",
    "# bandit = GaussianBandit([-1, 0, 1, 2, 3, 3, 2]) # directly creates a Gaussian bandit from a vector of means\n",
    "nbArms = 3\n",
    "bandit = GaussianBandit([-1, 0, 1]) # directly creates a Gaussian bandit from a vector of means\n",
    "\n",
    "FTLlearner = alg.FTL(nbArms)\n",
    "\n",
    "selections, rewards = OneBanditOneLearnerOneRun(bandit, FTLlearner, timeHorizon)\n",
    "regret = CumulativeRegret(bandit, selections)"
   ]
  },
  {
   "cell_type": "code",
   "execution_count": 13,
   "metadata": {},
   "outputs": [
    {
     "data": {
      "text/plain": [
       "[<matplotlib.lines.Line2D at 0x7fac72c59940>]"
      ]
     },
     "execution_count": 13,
     "metadata": {},
     "output_type": "execute_result"
    },
    {
     "data": {
      "image/png": "[encoded data removed]",
      "text/plain": [
       "<Figure size 432x288 with 1 Axes>"
      ]
     },
     "metadata": {
      "needs_background": "light"
     },
     "output_type": "display_data"
    },
    {
     "data": {
      "image/png": "[encoded data removed]",
      "text/plain": [
       "<Figure size 432x288 with 1 Axes>"
      ]
     },
     "metadata": {
      "needs_background": "light"
     },
     "output_type": "display_data"
    }
   ],
   "source": [
    "# Visualize results (on one run) \n",
    "\n",
    "# Histogram of the number of arms selections\n",
    "plt.clf()\n",
    "plt.xlabel(\"Arms\", fontsize=14)\n",
    "plt.ylabel(\"Number of arms selections\", fontsize=14)\n",
    "plt.hist(selections, max(selections) + 1)\n",
    "plt.title(\"Number of selections of each arm\", fontsize=14)\n",
    "# plt.savefig('./Figure/test'+ learner.name() + '.pdf')\n",
    "\n",
    "# Cumulative regret as a function of time\n",
    "plt.figure(2)\n",
    "plt.clf()\n",
    "plt.xlabel(\"Time steps\", fontsize=14)\n",
    "plt.ylabel(\"Cumulative regret\", fontsize=14)\n",
    "plt.title(\"Regret as a function of time\")\n",
    "plt.plot(range(timeHorizon), regret, 'black', linewidth=1)"
   ]
  },
  {
   "cell_type": "markdown",
   "metadata": {},
   "source": [
    "We now compare FTL and UE algorithms on a single run. If you run this code multiple time, you will have very different results."
   ]
  },
  {
   "cell_type": "markdown",
   "metadata": {},
   "source": [
    "FTL is not always stable, sometimes it finds the right answer, but sometimes it does not which means it irreversibly continues to ignore the good answer."
   ]
  },
  {
   "cell_type": "code",
   "execution_count": 42,
   "metadata": {},
   "outputs": [],
   "source": [
    "UElearner = alg.UE(nbArms)\n",
    "\n",
    "# Run the two learners\n",
    "selections, rewards = OneBanditOneLearnerOneRun(bandit, FTLlearner, timeHorizon)\n",
    "FTLregret = CumulativeRegret(bandit, selections)\n",
    "selections, rewards = OneBanditOneLearnerOneRun(bandit, UElearner, timeHorizon)\n",
    "UEregret = CumulativeRegret(bandit, selections)"
   ]
  },
  {
   "cell_type": "code",
   "execution_count": 43,
   "metadata": {},
   "outputs": [
    {
     "data": {
      "text/plain": [
       "<matplotlib.legend.Legend at 0x7fac72577fa0>"
      ]
     },
     "execution_count": 43,
     "metadata": {},
     "output_type": "execute_result"
    },
    {
     "data": {
      "image/png": "[encoded data removed]",
      "text/plain": [
       "<Figure size 432x288 with 1 Axes>"
      ]
     },
     "metadata": {
      "needs_background": "light"
     },
     "output_type": "display_data"
    }
   ],
   "source": [
    "# Compare their regret\n",
    "plt.xlabel(\"Time steps\", fontsize=14)\n",
    "plt.ylabel(\"Cumulative regret\", fontsize=14)\n",
    "plt.title(\"Regret as a function of time\")\n",
    "plt.plot(range(0, timeHorizon), FTLregret,label=FTLlearner.name())\n",
    "plt.plot(range(0, timeHorizon), UEregret,label=UElearner.name())\n",
    "plt.legend()"
   ]
  },
  {
   "cell_type": "markdown",
   "metadata": {},
   "source": [
    "We now compare FTL and UE algorithms on a multiple runs. If you run this code multiple time, you will have similar results."
   ]
  },
  {
   "cell_type": "code",
   "execution_count": 46,
   "metadata": {},
   "outputs": [],
   "source": [
    "N_exp = 1000\n",
    "timeHorizon = 1000\n",
    "tsave = np.arange(1, timeHorizon, 10)\n",
    "\n",
    "FTLregret = OneBanditOneLearnerMultipleRuns(bandit, FTLlearner, timeHorizon, N_exp, tsave)\n",
    "UEregret = OneBanditOneLearnerMultipleRuns(bandit, UElearner, timeHorizon, N_exp, tsave)\n",
    "LBregret = complexity(bandit)*np.array([log(t) for t in tsave ])"
   ]
  },
  {
   "cell_type": "code",
   "execution_count": 47,
   "metadata": {},
   "outputs": [
    {
     "data": {
      "image/png": "[encoded data removed]",
      "text/plain": [
       "<Figure size 432x288 with 1 Axes>"
      ]
     },
     "metadata": {
      "needs_background": "light"
     },
     "output_type": "display_data"
    }
   ],
   "source": [
    "plt.clf()\n",
    "plt.plot(tsave, np.mean(FTLregret, 0), linewidth=2.0, color=\"b\", label=\"mean regret of \"+FTLlearner.name())\n",
    "plt.plot(tsave, np.quantile(FTLregret, 0.95, 0), tsave, np.quantile(FTLregret,0.05,0), linestyle=\"dashed\", color=\"b\")\n",
    "plt.plot(tsave, np.mean(UEregret, 0), linewidth=2.0, color=\"r\", label=\"mean regret of \"+UElearner.name())\n",
    "plt.plot(tsave, np.quantile(UEregret, 0.95, 0), tsave, np.quantile(UEregret,0.05,0), linestyle=\"dashed\", color=\"r\")\n",
    "plt.plot(tsave, LBregret, linewidth=1.0, color=\"k\", label=\"Regret lower bound\")\n",
    "plt.legend()\n",
    "plt.show()"
   ]
  },
  {
   "cell_type": "markdown",
   "metadata": {},
   "source": [
    "#### Question\n",
    "\n",
    "* Do you think that FTL is a \"safe\" strategy ? "
   ]
  },
  {
   "cell_type": "markdown",
   "metadata": {
    "colab_type": "text",
    "id": "CnC90yPhWhpQ"
   },
   "source": [
    "## II. Index Based Strategies\n",
    "\n"
   ]
  },
  {
   "cell_type": "markdown",
   "metadata": {},
   "source": [
    "For all arm $a \\in \\mathcal{A}$, for all time step  $t \\geq 1$, the empirical mean of arm $a$ at time step $t$ is $$\\hat \\mu_a(t) = \\dfrac{1}{N_a(t)} \\sum\\limits_{s = 1}^t \\mathbb{1}_{\\{a_s = a\\}}X_s, \\text{ if } N_a(t) > 0,\\ 0 \\text{ otherwise}, $$\n",
    "where $N_a(t) = \\sum\\limits_{ s=1}^t \\mathbb{1}_{\\{ a_s = a\\}}$ is the number of pulls of arm $a$ at time $t$. We denote by $\\hat \\mu_\\star(t) = \\max\\limits_{a \\in \\mathcal{A}}\\hat\\mu_a(t)$."
   ]
  },
  {
   "cell_type": "markdown",
   "metadata": {},
   "source": [
    "### II.1. Upper Confidence Bound (UCB)"
   ]
  },
  {
   "cell_type": "markdown",
   "metadata": {},
   "source": [
    "For an arm $a \\in \\mathcal{A}$ and a time step $t\\geq 1$, the Upper Confidence Bound is defined as foollows:\n",
    "$$ U_a(t) = \\hat\\mu_a(t)+ \\sqrt{\\frac{\\log\\!\\left(1/\\delta_t\\right)}{2N_a(t)}} \\,, $$\n",
    "with $ \\delta_t=t^{-2}(t+1)^{-1}$.\n",
    "\n",
    "\n",
    "UCB is the strategy that consists in pulling an arm with maximal upper confidence bound at each time step:\n",
    "$$ a_{t+1} = \\arg\\!\\max_{a \\in \\mathcal{A}}U_a(t)  \\,.$$"
   ]
  },
  {
   "cell_type": "markdown",
   "metadata": {},
   "source": [
    "#### Questions\n",
    "\n",
    "* Implement the UCB algorithm\n",
    "\n",
    "* Compare the FTL and UCB algorithms, including the asymptotic lower bound\n",
    "\n",
    "* Study the influence of the minimum gap, of the choice of $\\delta_t$"
   ]
  },
  {
   "cell_type": "code",
   "execution_count": 95,
   "metadata": {},
   "outputs": [],
   "source": [
    "def delta(t):\n",
    "    return t**(-2)*(t+1)**(-1)\n",
    "\n",
    "UCBlearner = alg.UCB(nbArms, delta)\n",
    "\n",
    "\n",
    "UCBregret = OneBanditOneLearnerMultipleRuns(bandit, UCBlearner, timeHorizon, N_exp, tsave)"
   ]
  },
  {
   "cell_type": "code",
   "execution_count": 96,
   "metadata": {},
   "outputs": [
    {
     "data": {
      "image/png": "[encoded data removed]",
      "text/plain": [
       "<Figure size 432x288 with 1 Axes>"
      ]
     },
     "metadata": {
      "needs_background": "light"
     },
     "output_type": "display_data"
    }
   ],
   "source": [
    "plt.clf()\n",
    "plt.plot(tsave, np.mean(FTLregret, 0), linewidth=2.0, color=\"b\", label=\"mean regret of \"+FTLlearner.name())\n",
    "#plt.plot(tsave, np.quantile(FTLregret, 0.95, 0), tsave, np.quantile(FTLregret,0.05,0), linestyle=\"dashed\", color=\"b\")\n",
    "plt.plot(tsave, np.mean(UCBregret, 0), linewidth=2.0, color=\"r\", label=\"mean regret of \"+UCBlearner.name())\n",
    "plt.plot(tsave, np.quantile(UCBregret, 0.95, 0), tsave, np.quantile(UCBregret,0.05,0), linestyle=\"dashed\", color=\"r\")\n",
    "plt.plot(tsave, LBregret, linewidth=1.0, color=\"k\", label=\"Regret lower bound\")\n",
    "plt.legend()\n",
    "plt.show()"
   ]
  },
  {
   "cell_type": "markdown",
   "metadata": {},
   "source": [
    "If there was more choices and there is no new thing to discover (like all the values are nearly the same {repetition of -1 0 1}), UCB doesn't perform well, since it loses a lot of time in the search process"
   ]
  },
  {
   "cell_type": "markdown",
   "metadata": {},
   "source": [
    "### II.2. Index Minimum Empirical Divergence (IMED)"
   ]
  },
  {
   "cell_type": "markdown",
   "metadata": {},
   "source": [
    "For an arm $a \\in \\mathcal{A}$ and a time step $t\\geq 1$, the IMED index is defined as foollows:\n",
    "$$ I_a(t) = N_a(t)\\,\\mathrm{KL}\\!\\left(\\hat\\mu_a(t),\\hat \\mu_\\star(t)\\right)+ \\log\\!\\left(N_a(t)\\right) \\,. $$\n",
    "\n",
    "This quantity can be seen as a transportation cost for “moving\" a sub-optimal arm to an optimal one,\n",
    "plus exploration terms (the logarithms of the numbers of pulls). When an optimal arm is considered,\n",
    "the transportation cost is null and it remains only the exploration part. Note that, as stated in Honda\n",
    "and Takemura (2011), $I_a(t)$ is an index in the weaker sense since it cannot be determined only\n",
    "by samples from the pair $a$ but also uses empirical means of current optimal arms.\n",
    "\n",
    "IMED is the strategy that consists in pulling an arm with minimal index at each time step:\n",
    "$$ a_{t+1} = \\arg\\!\\min_{a \\in \\mathcal{A}}I_a(t)  \\,.$$"
   ]
  },
  {
   "cell_type": "markdown",
   "metadata": {},
   "source": [
    "#### Questions\n",
    "\n",
    "* Implement the IMED algorithm\n",
    "\n",
    "* Compare the UCB and IMED algorithms, including the asymptotic lower bound\n",
    "\n",
    "* Study the influence of the type of the distributions (Gaussian, Bernoulli, Exponential)"
   ]
  },
  {
   "cell_type": "code",
   "execution_count": 14,
   "metadata": {},
   "outputs": [],
   "source": [
    "IMEDlearner = alg.IMED(nbArms, klGauss)\n",
    "\n",
    "\n",
    "IMEDregret = OneBanditOneLearnerMultipleRuns(bandit, IMEDlearner, timeHorizon, N_exp, tsave)"
   ]
  },
  {
   "cell_type": "code",
   "execution_count": 15,
   "metadata": {},
   "outputs": [
    {
     "data": {
      "image/png": "[encoded data removed]",
      "text/plain": [
       "<Figure size 432x288 with 1 Axes>"
      ]
     },
     "metadata": {
      "needs_background": "light"
     },
     "output_type": "display_data"
    }
   ],
   "source": [
    "plt.clf()\n",
    "plt.plot(tsave, np.mean(IMEDregret, 0), linewidth=2.0, color=\"b\", label=\"mean regret of \"+IMEDlearner.name())\n",
    "plt.plot(tsave, np.quantile(IMEDregret, 0.95, 0), tsave, np.quantile(IMEDregret,0.05,0), linestyle=\"dashed\", color=\"b\")\n",
    "plt.plot(tsave, np.mean(UCBregret, 0), linewidth=2.0, color=\"r\", label=\"mean regret of \"+UCBlearner.name())\n",
    "plt.plot(tsave, np.quantile(UCBregret, 0.95, 0), tsave, np.quantile(UCBregret,0.05,0), linestyle=\"dashed\", color=\"r\")\n",
    "plt.plot(tsave, LBregret, linewidth=1.0, color=\"k\", label=\"Regret lower bound\")\n",
    "plt.legend()\n",
    "plt.show()"
   ]
  },
  {
   "cell_type": "markdown",
   "metadata": {},
   "source": [
    "## III. Sampling Based Strategies "
   ]
  },
  {
   "cell_type": "markdown",
   "metadata": {},
   "source": [
    "For all arm $a \\in \\mathcal{A}$, for all time step  $t \\geq 1$, the cumulative reward from arm $a$ at time $t$ is $$S_a(t) = \\sum\\limits_{s = 1}^t \\mathbb{1}_{\\{a_s = a\\}}X_s\\,, $$\n",
    "and the number of pulls of arm $a$ at time $t$ is \n",
    "$$N_a(t) = \\sum\\limits_{ s=1}^t \\mathbb{1}_{\\{ a_s = a\\}} \\,.$$"
   ]
  },
  {
   "cell_type": "markdown",
   "metadata": {},
   "source": [
    "### III.1. Thomson Sampling (TS)"
   ]
  },
  {
   "cell_type": "markdown",
   "metadata": {},
   "source": [
    "In a Bayesian view on the MAB, the $(\\mu_a)_{a\\in\\mathcal{A}}$ are no longer seen as unknown parameters but as (independent)random variables following a uniform distribution. The posterior distribution on the arm $a$ at time $t$ of the bandit game is the distribution of $\\mu_a$ conditional to the observations from arm $a$ gathered up to\n",
    "time $t$ and it is denoted $\\pi_a(t)$ . Each sample from arm $a$ leads to an update of this posterior distribution.\n",
    "\n",
    "\n",
    "TS is the strategy that consists in drawing $\\theta_a(t)\\sim \\pi_a(t)=Beta(N_a(t) + 1, N_a(t) - S_a(t) + 1)$ at time step t and for each arm $a$, then pulling the arm:\n",
    "$$ a_{t+1} = \\arg\\!\\max_{a \\in \\mathcal{A}}\\theta_a(t)  \\,.$$ "
   ]
  },
  {
   "cell_type": "markdown",
   "metadata": {},
   "source": [
    "#### Questions\n",
    "\n",
    "* Implement the TS algorithm for Bernoulli distributions. You can make use of the Beta distribution `np.random.beta()`\n",
    "\n",
    "* Compare the TS and IMED algorithms, including the asymptotic lower bound"
   ]
  },
  {
   "cell_type": "markdown",
   "metadata": {},
   "source": [
    "### III.2. Best Empirical Sampled Average (BESA) [ 2 arms ]"
   ]
  },
  {
   "cell_type": "markdown",
   "metadata": {},
   "source": [
    "If arm a has been pulled 3 times at time t, and arm b has been pulled 10 times, the\n",
    "algorithm sub-samples 3 observations out of the 10 of arm b, then compares the empirical mean built\n",
    "from b with these 3 samples, to the empirical mean built from a. The chosen arm is the one with the\n",
    "highest such empirical mean, and is called the ”winner”."
   ]
  },
  {
   "cell_type": "markdown",
   "metadata": {},
   "source": [
    "#### Questions\n",
    "\n",
    "* Implement the BESA algorithm for 2-arms only\n",
    "* Compare it against other strategies, on Bernoulli arms, then Gaussian arms, the others (Poisson, Exponential, etc)\n",
    "* Is there a strategy that approximately dominates all others on all problems?"
   ]
  },
  {
   "cell_type": "markdown",
   "metadata": {},
   "source": [
    "### III.3. Random Block sub-Sampling Duelling Algorithm (RB-SDA)"
   ]
  },
  {
   "cell_type": "markdown",
   "metadata": {},
   "source": [
    "#### Bonus\n",
    "* Implement the RB-SDA algorithm and compare its regret"
   ]
  },
  {
   "cell_type": "markdown",
   "metadata": {},
   "source": [
    "# Part 2 : Structured Stochastic Bandits"
   ]
  },
  {
   "cell_type": "markdown",
   "metadata": {},
   "source": [
    "## I. Unimodal Bandits"
   ]
  },
  {
   "cell_type": "markdown",
   "metadata": {},
   "source": [
    "We assume that $\\mathcal{A} = \\left\\{0, \\dots, A-1\\right\\}, A \\geq 1$, and $ \\mu : \\begin{cases}\n",
    "\t\\mathcal{A}   &  \\to  \\mathbb{R} \\\\\n",
    "\ta  &\\mapsto  \\mu_a\n",
    "\t\\end{cases} $ is unimodal. That is, there exists $ a_\\star \\!\\in\\! \\mathcal{A}$ such that $\\mu_{[\\![0,a_\\star]\\!]} $ is increasing and $ \\mu_{[\\![ a_\\star, A]\\!]} $ is  decreasing. It is further assumed that for each arm $a$,  $ \\nu_{a} $ is a Gaussian distribution $ \\mathcal{N}(\\mu_a,1) $ , where $ \\mu_a \\in \\mathbb{R} $ is the mean of the distribution $\\nu_{a}$. We denote the structured set of Gaussian unimodal bandit distributions by \n",
    "\t$$\\mathcal{D}_{\\text{unimodal}} = \\bigg\\{\\nu = (\\nu_a)_{a \\in \\mathcal{A}}:\\  \\forall a \\!\\in\\! \\mathcal{A},\\ \\nu_a \\sim \\mathcal{N}(\\mu_a,1) \\text{ with } \\mu_a \\!\\in\\! \\mathbb{R}\\text{ and }\\mu \\text{ is unimodal}\\bigg\\}\\,.$$\n",
    "\n",
    "On a  Gaussian unimodal bandit instance, the Lai and Robbins lower bound tells us that the regret is **asymptotically** no smaller than \n",
    "\n",
    "$$\\left(\\sum_{a \\in \\mathcal{V}_{a_\\star}} \\frac{\\Delta_a}{\\mathrm{KL}(\\mu_a,\\mu_\\star)}\\right) \\log(T),$$\n",
    "where $\\mathcal{V}_{a_\\star} = \\{a_\\star - 1, a_\\star + 1\\}\\cap\\mathcal{A}$ and $\\mathrm{KL}(\\mu_a,\\mu_\\star)$ is the KL-divergence between the Gaussian distribution of mean $\\mu_a$ and the Gaussian distribution of mean $\\mu_\\star$ (variances equal to $1$). The constant in front of the $\\log(T)$ may be called the **unimodal complexity** of the bandit problem."
   ]
  },
  {
   "cell_type": "markdown",
   "metadata": {},
   "source": [
    "#### Questions\n",
    "* Write a function that generate at random  unimodal Gaussian bandit instances\n",
    "* Write a function that computes the complexity of a unimodal Gaussian bandit instance"
   ]
  },
  {
   "cell_type": "code",
   "execution_count": null,
   "metadata": {},
   "outputs": [],
   "source": [
    "def UBGaussianBandit(nbArms):\n",
    "    \n",
    "    bestarm = np.random.randint(nbArms)\n",
    "    \n",
    "    bestmean = (meanMax - meanMin)*np.random.rand() + meanMin\n",
    "    meansUp =[]\n",
    "    if bestarm>0:\n",
    "        meansUp = sorted([(bestmean - meanMin)*np.random.rand() + meanMin for i in range(bestarm)])\n",
    "\n",
    "    meansDown=[]\n",
    "    if bestarm < nbArms-1:\n",
    "        meansDown = sorted([(bestmean - meanMin)*np.random.rand() + meanMin  for i in range(nbArms-1-bestarm)], reverse=True)\n",
    "\n",
    "    unimodalMeans = meansUp + [bestmean] + meansDown\n",
    "    \n",
    "    return GaussianBandit(unimodalMeans)"
   ]
  },
  {
   "cell_type": "markdown",
   "metadata": {},
   "source": [
    "### I.1. IMED for Unimodal Bandits (IMED4UB)"
   ]
  },
  {
   "cell_type": "markdown",
   "metadata": {},
   "source": [
    "For an arm $a \\in \\mathcal{A}$ and a time step $t\\geq 1$, the IMED4UB index is defined as foollows:\n",
    "$$ I_a(t) = N_a(t)\\,\\mathrm{KL}\\!\\left(\\hat\\mu_a(t),\\hat \\mu_\\star(t)\\right)+ \\log\\!\\left(N_a(t)\\right) \\,. $$\n",
    "\n",
    "IMED4UB is the strategy that consists in pulling an arm in the neighbourhood of the current optimal arm with minimal index at each time step:\n",
    "$$ a_{t+1} = \\arg\\!\\min_{a \\in \\{\\hat a_\\star(t)\\}\\cup\\mathcal{V}_{\\hat a_\\star(t)}}I_a(t)  \\,.$$\n"
   ]
  },
  {
   "cell_type": "markdown",
   "metadata": {},
   "source": [
    "#### Questions\n",
    "\n",
    "* Implement the IMED4UB algorithm\n",
    "\n",
    "* Compare the IMED4UB and IMED algorithms, including the asymptotic lower bound"
   ]
  },
  {
   "cell_type": "code",
   "execution_count": 20,
   "metadata": {},
   "outputs": [
    {
     "name": "stdout",
     "output_type": "stream",
     "text": [
      "The means of bandit instance are [0.1, 0.2, 0.3, 0.4, 0.5, 0.4, 0.3, 0.2, 0.1]\n"
     ]
    }
   ],
   "source": [
    "nbArms = 9\n",
    "bandit = GaussianBandit([0.1, 0.2, 0.3, 0.4, 0.5, 0.4, 0.3, 0.2, 0.1 ]) # directly creates a Gaussian bandit from a vector of means\n",
    "\n",
    "print(\"The means of bandit instance are\", bandit.means)\n",
    "\n",
    "N_exp = 100\n",
    "timeHorizon = 10000\n",
    "tsave = np.arange(1, timeHorizon, 10)\n",
    "\n",
    "LBregret = sum([0.1/klGauss(0.4,0.5), 0.1/klGauss(0.4,0.5)])*np.array([log(t) for t in tsave ])"
   ]
  },
  {
   "cell_type": "code",
   "execution_count": 21,
   "metadata": {},
   "outputs": [],
   "source": [
    "IMEDlearner = alg.IMED(nbArms, klGauss)\n",
    "IMED4UBlearner = alg.IMED4UB(nbArms, klGauss)\n",
    "\n",
    "\n",
    "IMED4UBregret = OneBanditOneLearnerMultipleRuns(bandit, IMED4UBlearner, timeHorizon, N_exp, tsave)\n",
    "IMEDregret = OneBanditOneLearnerMultipleRuns(bandit, IMEDlearner, timeHorizon, N_exp, tsave)"
   ]
  },
  {
   "cell_type": "code",
   "execution_count": null,
   "metadata": {},
   "outputs": [],
   "source": []
  },
  {
   "cell_type": "code",
   "execution_count": 19,
   "metadata": {},
   "outputs": [
    {
     "data": {
      "image/png": "[encoded data removed]",
      "text/plain": [
       "<Figure size 432x288 with 1 Axes>"
      ]
     },
     "metadata": {
      "needs_background": "light"
     },
     "output_type": "display_data"
    }
   ],
   "source": [
    "plt.clf()\n",
    "plt.plot(tsave, np.mean(IMEDregret, 0), linewidth=2.0, color=\"b\", label=\"mean regret of \"+IMEDlearner.name())\n",
    "plt.plot(tsave, np.quantile(IMEDregret, 0.95, 0), tsave, np.quantile(IMEDregret,0.05,0), linestyle=\"dashed\", color=\"b\")\n",
    "plt.plot(tsave, np.mean(IMED4UBregret, 0), linewidth=2.0, color=\"r\", label=\"mean regret of \"+IMED4UBlearner.name())\n",
    "plt.plot(tsave, np.quantile(IMED4UBregret, 0.95, 0), tsave, np.quantile(IMED4UBregret,0.05,0), linestyle=\"dashed\", color=\"r\")\n",
    "plt.plot(tsave, LBregret, linewidth=1.0, color=\"k\", label=\"Regret lower bound\")\n",
    "plt.legend()\n",
    "plt.show()"
   ]
  },
  {
   "cell_type": "markdown",
   "metadata": {},
   "source": [
    "### I.2. Unimodal Thomson Sampling (UTS)\n",
    "\n",
    "#### Bonus\n",
    "* Implement the UTS algorithm and compare its regret"
   ]
  },
  {
   "cell_type": "markdown",
   "metadata": {},
   "source": [
    "## II. Lipschitz Bandits"
   ]
  },
  {
   "cell_type": "markdown",
   "metadata": {},
   "source": [
    "We assume that $\\mathcal{A} = \\left\\{0, \\dots, A-1\\right\\}, A \\geq 1$, and $ \\mu : \\begin{cases}\n",
    "\t\\mathcal{A}   &  \\to  \\mathbb{R} \\\\\n",
    "\ta  &\\mapsto  \\mu_a\n",
    "\t\\end{cases} $ is $k$-Lipschitz, where is $k$ is assumed to be known. That is, for all $ a, a' \\!\\in\\! \\mathcal{A}$, $|\\mu_a - \\mu_{a'}| \\leq k\\!\\times\\! |a - a'|$. It is further assumed that for each arm $a$,  $ \\nu_{a} $ is a Gaussian distribution $ \\mathcal{N}(\\mu_a,1) $ , where $ \\mu_a \\in \\mathbb{R} $ is the mean of the distribution $\\nu_{a}$. We denote the structured set of Gaussian $k$-Lipschitz bandit distributions by \n",
    "\t$$\\mathcal{D}_{k\\text{-Lip}} = \\bigg\\{\\nu = (\\nu_a)_{a \\in \\mathcal{A}}:\\  \\forall a \\!\\in\\! \\mathcal{A},\\ \\nu_a \\sim \\mathcal{N}(\\mu_a,1) \\text{ with } \\mu_a \\!\\in\\! \\mathbb{R}\\text{ and }\\mu \\text{ is } k\\text{-Lipschitz}\\bigg\\}\\,.$$\n",
    "\n",
    "On a Gaussian $k$-Lipschitz bandit instance, the lower bounds tell us that the numbers of pulls satisfy **asymptotically** the following inequalities \n",
    "\n",
    "$$\\forall a \\in \\mathcal{A}, \\quad \\sum_{a' \\in \\mathcal{V}_{a}} \\mathrm{KL}\\!\\left(\\mu_{a'},\\,\\mu_\\star\\!-\\!k|a \\!-\\! a'|\\right)\\,N_{a'}(T) \\geq \\log(T)\\,,$$\n",
    "where $\\mathcal{V}_{a} = \\big\\{a'\\!\\in\\!\\mathcal{A}\\!:  \\mu_{a'}\\!<\\! \\mu_\\star\\!-\\!k|a \\!-\\! a'|\\big\\}$ and $\\mathrm{KL}(\\mu,\\mu')$ is the KL-divergence between the Gaussian distribution of mean $\\mu$ and the Gaussian distribution of mean $\\mu'$ (variances equal to $1$). The constant $C_{k\\text{-Lip}}(\\nu)$ resulting from the following linear programming may be called the **Lipschitz complexity** of the bandit problem:\n",
    "$$  C_{k\\text{-Lip}}(\\nu) =\n",
    " \\min \\bigg\\{\\sum\\limits_{a \\in \\mathcal{A}} (\\mu_\\star-\\mu_a)\\,n_{a}:\\ n \\in \\mathbb{R}_+^{\\mathcal{A}} \\text{ s.t. } \\forall a \\in \\mathcal{A},\\sum_{a' \\in \\mathcal{V}_{a}} \\mathrm{KL}\\!\\left(\\mu_{a'},\\,\\mu_\\star\\!-\\!k|a \\!-\\! a'|\\right)\\,n_{a'} \\geq 1\\bigg\\}\\,. \n",
    "$$"
   ]
  },
  {
   "cell_type": "markdown",
   "metadata": {},
   "source": [
    "#### Questions\n",
    "* Write a function that generate at random  $k$-Lipschitz Gaussian bandit instances\n",
    "* Write a function that computes the complexity of a $k$-Lipschitz Gaussian bandit instance"
   ]
  },
  {
   "cell_type": "markdown",
   "metadata": {},
   "source": [
    "### II.1. IMED for Lipschitz Bandits (IMED4LB)"
   ]
  },
  {
   "cell_type": "markdown",
   "metadata": {},
   "source": [
    "For an arm $a \\in \\mathcal{A}$ and a time step $t\\geq 1$, the IMED4LB index is defined as follows:\n",
    "$$ I_a(t) = \\sum\\limits_{a ' \\in \\hat{\\mathcal{V}}_{a}(t)}N_{a'}(t)\\,\\mathrm{KL}\\!\\left(\\hat\\mu_{a'}(t),\\hat \\mu_\\star(t) - k |a - a'|\\right)+ \\log\\!\\left(N_{a'}(t)\\right) \\,, $$\n",
    "where $\\hat{\\mathcal{V}}_{a}(t) = \\big\\{a'\\!\\in\\!\\mathcal{A}\\!:  \\hat\\mu_{a'}(t)\\!<\\! \\hat\\mu_\\star(t)\\!-\\!k|a \\!-\\! a'|\\big\\}$.\n",
    "\n",
    "IMED4LB is the strategy that consists in pulling an arm with minimal index at each time step:\n",
    "$$ a_{t+1} = \\arg\\!\\min_{a \\in \\mathcal{A}}I_a(t)  \\,.$$"
   ]
  },
  {
   "cell_type": "markdown",
   "metadata": {},
   "source": [
    "#### Questions\n",
    "\n",
    "* Implement the IMED4LB algorithm\n",
    "\n",
    "* Compare the IMED4LB and IMED algorithms, including the asymptotic lower bound\n",
    "\n",
    "* Compare the IMED4LB and IMED4UB algorithms for a both unimodal and $k$-Lipschitz Gaussian bandit instance, including the asymptotic lower bounds\n",
    "\n",
    "* Study the influence of the accuracy on the Lipschitz constant $k$"
   ]
  },
  {
   "cell_type": "markdown",
   "metadata": {},
   "source": [
    "### II.2. Combined KL-UCB (CKL-UCB)"
   ]
  },
  {
   "cell_type": "markdown",
   "metadata": {},
   "source": [
    "#### Bonus\n",
    "* Implement the CKL-UCB algorithm and compare its regret"
   ]
  }
 ],
 "metadata": {
  "colab": {
   "name": "MAB.Bandits.ipynb",
   "provenance": [],
   "toc_visible": true,
   "version": "0.3.2"
  },
  "kernelspec": {
   "display_name": "Python 3 (ipykernel)",
   "language": "python",
   "name": "python3"
  },
  "language_info": {
   "codemirror_mode": {
    "name": "ipython",
    "version": 3
   },
   "file_extension": ".py",
   "mimetype": "text/x-python",
   "name": "python",
   "nbconvert_exporter": "python",
   "pygments_lexer": "ipython3",
   "version": "3.9.10"
  }
 },
 "nbformat": 4,
 "nbformat_minor": 1
}
