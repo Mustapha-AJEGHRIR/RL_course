{
 "cells": [
  {
   "cell_type": "markdown",
   "id": "e0c70d56",
   "metadata": {},
   "source": [
    "# TD Deep Q-Network"
   ]
  },
  {
   "cell_type": "markdown",
   "id": "898a86dc",
   "metadata": {},
   "source": [
    "# Tutorial - Deep Q-Learning \n",
    "\n",
    "Deep Q-Learning uses a neural network to approximate $Q$ functions. Hence, we usually refer to this algorithm as DQN (for *deep Q network*).\n",
    "\n",
    "The parameters of the neural network are denoted by $\\theta$. \n",
    "*   As input, the network takes a state $s$,\n",
    "*   As output, the network returns $Q_\\theta [a | s] = Q_\\theta (s,a) = Q(s, a, \\theta)$, the value of each action $a$ in state $s$, according to the parameters $\\theta$.\n",
    "\n",
    "\n",
    "The goal of Deep Q-Learning is to learn the parameters $\\theta$ so that $Q(s, a, \\theta)$ approximates well the optimal $Q$-function $Q^*(s, a) \\simeq Q_{\\theta^*} (s,a)$. \n",
    "\n",
    "In addition to the network with parameters $\\theta$, the algorithm keeps another network with the same architecture and parameters $\\theta^-$, called **target network**.\n",
    "\n",
    "The algorithm works as follows:\n",
    "\n",
    "1.   At each time $t$, the agent is in state $s_t$ and has observed the transitions $(s_i, a_i, r_i, s_i')_{i=1}^{t-1}$, which are stored in a **replay buffer**.\n",
    "\n",
    "2.  Choose action $a_t = \\arg\\max_a Q_\\theta(s_t, a)$ with probability $1-\\varepsilon_t$, and $a_t$=random action with probability $\\varepsilon_t$. \n",
    "\n",
    "3. Take action $a_t$, observe reward $r_t$ and next state $s_t'$.\n",
    "\n",
    "4. Add transition $(s_t, a_t, r_t, s_t')$ to the **replay buffer**.\n",
    "\n",
    "4.  Sample a minibatch $\\mathcal{B}$ containing $B$ transitions from the replay buffer. Using this minibatch, we define the loss:\n",
    "\n",
    "$$\n",
    "L(\\theta) = \\sum_{(s_i, a_i, r_i, s_i') \\in \\mathcal{B}}\n",
    "\\left[\n",
    "Q(s_i, a_i, \\theta) -  y_i\n",
    "\\right]^2\n",
    "$$\n",
    "where the $y_i$ are the **targets** computed with the **target network** $\\theta^-$:\n",
    "\n",
    "$$\n",
    "y_i = r_i + \\gamma \\max_{a'} Q(s_i', a', \\theta^-).\n",
    "$$\n",
    "\n",
    "5. Update the parameters $\\theta$ to minimize the loss, e.g., with gradient descent (**keeping $\\theta^-$ fixed**): \n",
    "$$\n",
    "\\theta \\gets \\theta - \\eta \\nabla_\\theta L(\\theta)\n",
    "$$\n",
    "where $\\eta$ is the optimization learning rate. \n",
    "\n",
    "6. Every $N$ transitions ($t\\mod N$ = 0), update target parameters: $\\theta^- \\gets \\theta$.\n",
    "\n",
    "7. $t \\gets t+1$. Stop if $t = T$, otherwise go to step 2."
   ]
  },
  {
   "cell_type": "code",
   "execution_count": 1,
   "id": "3192463f",
   "metadata": {},
   "outputs": [],
   "source": [
    "# Imports\n",
    "import sys\n",
    "import os\n",
    "import torch\n",
    "import torch.nn as nn\n",
    "import torch.nn.functional as F\n",
    "import torch.optim as optim\n",
    "import numpy as np\n",
    "import random\n",
    "from copy import deepcopy\n",
    "import gym\n",
    "from gym.wrappers import Monitor\n",
    "import matplotlib.pyplot as plt\n",
    "\n",
    "# from pyvirtualdisplay import Display\n",
    "from IPython import display as ipythondisplay\n",
    "from IPython.display import clear_output\n",
    "from pathlib import Path\n",
    "import base64\n",
    "\n",
    "# SEED = 42\n",
    "# torch.manual_seed(SEED)\n",
    "# np.random.seed(SEED)\n",
    "# random.seed(SEED)"
   ]
  },
  {
   "cell_type": "code",
   "execution_count": 2,
   "id": "8ea50e37",
   "metadata": {},
   "outputs": [
    {
     "name": "stdout",
     "output_type": "stream",
     "text": [
      "python --version = 3.9.9 | packaged by conda-forge | (main, Dec 20 2021, 02:41:03) \n",
      "[GCC 9.4.0]\n",
      "torch.__version__ = 1.10.1+cu102\n",
      "np.__version__ = 1.21.4\n",
      "gym.__version__ = 0.21.0\n"
     ]
    }
   ],
   "source": [
    "print(f\"python --version = {sys.version}\")\n",
    "print(f\"torch.__version__ = {torch.__version__}\")\n",
    "print(f\"np.__version__ = {np.__version__}\")\n",
    "print(f\"gym.__version__ = {gym.__version__}\")"
   ]
  },
  {
   "cell_type": "markdown",
   "id": "4117afb1",
   "metadata": {},
   "source": [
    "## Torch 101\n",
    "\n",
    ">\"The torch package contains data structures for multi-dimensional tensors and defines mathematical operations over these tensors. Additionally, it provides many utilities for efficient serializing of Tensors and arbitrary types, and other useful utilities. \n",
    "[...] provides classes and functions implementing automatic differentiation of arbitrary scalar valued functions.\" \n",
    "[PyTorch](https://pytorch.org/docs/stable/index.html)\n"
   ]
  },
  {
   "cell_type": "markdown",
   "id": "d9f94aaf",
   "metadata": {},
   "source": [
    "### Variable types"
   ]
  },
  {
   "cell_type": "code",
   "execution_count": 3,
   "id": "2ea2eaa2",
   "metadata": {},
   "outputs": [
    {
     "name": "stdout",
     "output_type": "stream",
     "text": [
      "zero_torch is of type <class 'torch.Tensor'>\n",
      "\n",
      "Float:\n",
      " tensor([[0., 0.],\n",
      "        [0., 0.],\n",
      "        [0., 0.]])\n",
      "Int:\n",
      " tensor([[0, 0],\n",
      "        [0, 0],\n",
      "        [0, 0]])\n",
      "Bool:\n",
      " tensor([[False, False],\n",
      "        [False, False],\n",
      "        [False, False]])\n",
      "\n",
      "View new shape... tensor([[0., 0., 0., 0., 0., 0.]])\n",
      "\n",
      "Algebraic operations are overloaded:\n",
      " tensor([[-0.4007, -1.2261],\n",
      "        [-0.6001, -0.3326],\n",
      "        [-0.1794, -0.9512]]) \n",
      "+\n",
      " tensor([[ 0.0305,  1.2174],\n",
      "        [ 1.4863, -0.5778],\n",
      "        [-0.0757,  0.3067]]) \n",
      "=\n",
      " tensor([[-0.3701, -0.0087],\n",
      "        [ 0.8862, -0.9104],\n",
      "        [-0.2551, -0.6445]])\n"
     ]
    }
   ],
   "source": [
    "# Very similar syntax to numpy.\n",
    "zero_torch = torch.zeros((3, 2))\n",
    "\n",
    "print('zero_torch is of type {:s}'.format(str(type(zero_torch))))\n",
    "\n",
    "# Torch -> Numpy: simply call the numpy() method.\n",
    "zero_np = np.zeros((3, 2))\n",
    "assert (zero_torch.numpy() == zero_np).all()\n",
    "\n",
    "# Numpy -> Torch: simply call the corresponding function on the np.array.\n",
    "zero_torch_float = torch.FloatTensor(zero_np)\n",
    "print('\\nFloat:\\n', zero_torch_float)\n",
    "zero_torch_int = torch.LongTensor(zero_np)\n",
    "print('Int:\\n', zero_torch_int)\n",
    "zero_torch_bool = torch.BoolTensor(zero_np)\n",
    "print('Bool:\\n', zero_torch_bool)\n",
    "\n",
    "# Reshape\n",
    "print('\\nView new shape...', zero_torch.view(1, 6))\n",
    "# Note that print(zero_torch.reshape(1, 6)) would work too.\n",
    "# The difference is in how memory is handled (view imposes contiguity).\n",
    "\n",
    "# Algebra\n",
    "a = torch.randn((3, 2))\n",
    "b = torch.randn((3, 2))\n",
    "print('\\nAlgebraic operations are overloaded:\\n', a, '\\n+\\n', b, '\\n=\\n', a+b )\n",
    "\n",
    "# More generally, torch shares the syntax of many attributes and functions with Numpy."
   ]
  },
  {
   "cell_type": "markdown",
   "id": "3e7f1191",
   "metadata": {},
   "source": [
    "### Gradient management"
   ]
  },
  {
   "cell_type": "code",
   "execution_count": 4,
   "id": "29a2a715",
   "metadata": {},
   "outputs": [
    {
     "name": "stdout",
     "output_type": "stream",
     "text": [
      "tensor([[0., 0.],\n",
      "        [0., 0.],\n",
      "        [0., 0.]])\n",
      "Initial guess: tensor([-0.5454])\n",
      "Final estimate: tensor([2.0001])\n",
      "The final estimate should be close to tensor([2.])\n"
     ]
    }
   ],
   "source": [
    "# torch.Tensor is a similar yet more complicated data structure than np.array.\n",
    "# It is basically a static array of number but may also contain an overlay to \n",
    "# handle automatic differentiation (i.e keeping track of the gradient and which \n",
    "# tensors depend on which).\n",
    "# To access the static array embedded in a tensor, simply call the detach() method\n",
    "print(zero_torch.detach())\n",
    "\n",
    "# When inside a function performing automatic differentiation (basically when training \n",
    "# a neural network), never use detach() otherwise meta information regarding gradients\n",
    "# will be lost, effectively freezing the variable and preventing backprop for it. \n",
    "# However when returning the result of training, do use detach() to save memory \n",
    "# (the naked tensor data uses much less memory than the full-blown tensor with gradient\n",
    "# management, and is much less prone to mistake such as bad copy and memory leak).\n",
    "\n",
    "# We will solve theta * x = y in theta for x=1 and y=2\n",
    "x = torch.ones(1)\n",
    "y = 2 * torch.ones(1)\n",
    "\n",
    "# Actually by default torch does not add the gradient management overlay\n",
    "# when declaring tensors like this. To force it, add requires_grad=True.\n",
    "theta = torch.randn(1, requires_grad=True)\n",
    "\n",
    "# Optimisation routine\n",
    "# (Adam is a sophisticated variant of SGD, with adaptive step).\n",
    "optimizer = optim.Adam(params=[theta], lr=0.1)\n",
    "\n",
    "# Loss function\n",
    "print('Initial guess:', theta.detach())\n",
    "\n",
    "for _ in range(100):\n",
    "    # By default, torch accumulates gradients in memory.\n",
    "    # To obtain the desired gradient descent beahviour,\n",
    "    # just clean the cached gradients using the following line:\n",
    "    optimizer.zero_grad()\n",
    "    \n",
    "    # Quadratic loss (* and ** are overloaded so that torch\n",
    "    # knows how to differentiate them)\n",
    "    loss = (y - theta * x) ** 2\n",
    "    \n",
    "    # Apply the chain rule to automatically compute gradients\n",
    "    # for all relevant tensors.\n",
    "    loss.backward()\n",
    "    \n",
    "    # Run one step of optimisation routine.\n",
    "    optimizer.step()\n",
    "    \n",
    "print('Final estimate:', theta.detach())\n",
    "print('The final estimate should be close to', y)"
   ]
  },
  {
   "cell_type": "markdown",
   "id": "f014ed38",
   "metadata": {},
   "source": [
    "## Setting the environment\n",
    "\n",
    "### 1 - Define the GLOBAL parameters"
   ]
  },
  {
   "cell_type": "code",
   "execution_count": 5,
   "id": "03a05cfc",
   "metadata": {},
   "outputs": [],
   "source": [
    "# Environment\n",
    "env = gym.make(\"CartPole-v0\")\n",
    "\n",
    "# Discount factor\n",
    "GAMMA = 0.99\n",
    "\n",
    "# Batch size\n",
    "BATCH_SIZE = 256\n",
    "# Capacity of the replay buffer\n",
    "BUFFER_CAPACITY = 16384 # 10000\n",
    "# Update target net every ... episodes\n",
    "UPDATE_TARGET_EVERY = 32 # 20\n",
    "\n",
    "# Initial value of epsilon\n",
    "EPSILON_START = 1.0\n",
    "# Parameter to decrease epsilon\n",
    "DECREASE_EPSILON = 200\n",
    "# Minimum value of epislon\n",
    "EPSILON_MIN = 0.05\n",
    "\n",
    "# Number of training episodes\n",
    "# N_EPISODES = 200 #Default\n",
    "N_EPISODES = 1000\n",
    "\n",
    "# Learning rate\n",
    "LEARNING_RATE = 0.1\n",
    "\n",
    "#Added by me\n",
    "# env.seed(SEED)"
   ]
  },
  {
   "cell_type": "markdown",
   "id": "2c38d6dd",
   "metadata": {},
   "source": [
    "### 2 - Replay buffer"
   ]
  },
  {
   "cell_type": "code",
   "execution_count": 6,
   "id": "dbd61940",
   "metadata": {},
   "outputs": [],
   "source": [
    "class ReplayBuffer:\n",
    "    def __init__(self, capacity):\n",
    "        self.capacity = capacity\n",
    "        self.memory = []\n",
    "        self.position = 0\n",
    "\n",
    "    def push(self, state, action, reward, next_state):\n",
    "        \"\"\"Saves a transition.\"\"\"\n",
    "        if len(self.memory) < self.capacity:\n",
    "            self.memory.append(None)\n",
    "        self.memory[self.position] = (state, action, reward, next_state)\n",
    "        self.position = (self.position + 1) % self.capacity\n",
    "\n",
    "    def sample(self, batch_size):\n",
    "        return random.choices(self.memory, k=batch_size)\n",
    "\n",
    "    def __len__(self):\n",
    "        return len(self.memory)\n",
    "\n",
    "# create instance of replay buffer\n",
    "replay_buffer = ReplayBuffer(BUFFER_CAPACITY)"
   ]
  },
  {
   "cell_type": "markdown",
   "id": "2a64a096",
   "metadata": {},
   "source": [
    "### 3 - Neural Network"
   ]
  },
  {
   "cell_type": "code",
   "execution_count": 7,
   "id": "0decdfc3",
   "metadata": {},
   "outputs": [],
   "source": [
    "class Net(nn.Module):\n",
    "    \"\"\"\n",
    "    Basic neural net.\n",
    "    \"\"\"\n",
    "    def __init__(self, obs_size, hidden_size, n_actions):\n",
    "        super(Net, self).__init__()\n",
    "        self.net = nn.Sequential(\n",
    "            nn.Linear(obs_size, hidden_size),\n",
    "            nn.ReLU(),\n",
    "            nn.Linear(hidden_size, n_actions)\n",
    "        )\n",
    "\n",
    "    def forward(self, x):\n",
    "        return self.net(x)"
   ]
  },
  {
   "cell_type": "markdown",
   "id": "66eaf259",
   "metadata": {},
   "source": [
    "### 3.5 - Loss function and optimizer"
   ]
  },
  {
   "cell_type": "code",
   "execution_count": 8,
   "id": "c4858d77",
   "metadata": {},
   "outputs": [],
   "source": [
    "# create network and target network\n",
    "hidden_size = 128\n",
    "obs_size = env.observation_space.shape[0]\n",
    "n_actions = env.action_space.n\n",
    "\n",
    "\n",
    "q_net = Net(obs_size, hidden_size, n_actions)\n",
    "target_net = Net(obs_size, hidden_size, n_actions)\n",
    "\n",
    "# objective and optimizer\n",
    "objective = nn.MSELoss()\n",
    "# optimizer = optim.Adam(params=q_net.parameters(), lr=LEARNING_RATE)\n",
    "optimizer = optim.SGD(params=q_net.parameters(), lr=LEARNING_RATE)"
   ]
  },
  {
   "cell_type": "markdown",
   "id": "7975fdd2",
   "metadata": {},
   "source": [
    "### Question 0 (to do at home, not during the live session)\n",
    "\n",
    "With your own word, explain the intuition behind DQN. Recall the main parts of the aformentionned algorithm."
   ]
  },
  {
   "cell_type": "markdown",
   "id": "72b72807",
   "metadata": {},
   "source": [
    "## Implementing the DQN"
   ]
  },
  {
   "cell_type": "code",
   "execution_count": 9,
   "id": "652a3c46",
   "metadata": {},
   "outputs": [],
   "source": [
    "def get_q(states):\n",
    "    \"\"\"\n",
    "    Compute Q function for a list of states\n",
    "    \"\"\"\n",
    "    with torch.no_grad():\n",
    "        states_v = torch.FloatTensor([states])\n",
    "        output = q_net.forward(states_v).detach().numpy()  # shape (1, len(states), n_actions)\n",
    "    return output[0, :, :]  # shape (len(states), n_actions)"
   ]
  },
  {
   "cell_type": "markdown",
   "id": "77eb2b2c",
   "metadata": {},
   "source": [
    "#### Question 1\n",
    "\n",
    "Implement the `choose_action` function."
   ]
  },
  {
   "cell_type": "code",
   "execution_count": 10,
   "id": "1672f298",
   "metadata": {},
   "outputs": [],
   "source": [
    "def choose_action(state, epsilon):\n",
    "    \"\"\"\n",
    "    ** TO BE IMPLEMENTED **\n",
    "    \n",
    "    Return action according to an epsilon-greedy exploration policy\n",
    "    \"\"\"\n",
    "    if np.random.uniform() < epsilon:\n",
    "        return env.action_space.sample()\n",
    "    else :\n",
    "        return np.argmax(get_q([state])[0])"
   ]
  },
  {
   "cell_type": "markdown",
   "id": "3302b69f",
   "metadata": {},
   "source": [
    "#### Question 2\n",
    "\n",
    "Implement the `eval_dqn` function."
   ]
  },
  {
   "cell_type": "code",
   "execution_count": 11,
   "id": "9e15cae2",
   "metadata": {},
   "outputs": [],
   "source": [
    "def eval_dqn(n_sim=5):\n",
    "    \"\"\"\n",
    "    ** TO BE IMPLEMENTED **\n",
    "    \n",
    "    Monte Carlo evaluation of DQN agent.\n",
    "\n",
    "    Repeat n_sim times:\n",
    "        * Run the DQN policy until the environment reaches a terminal state (= one episode)\n",
    "        * Compute the sum of rewards in this episode\n",
    "        * Store the sum of rewards in the episode_rewards array.\n",
    "    \"\"\"\n",
    "    env_copy = deepcopy(env)\n",
    "    episode_rewards = np.zeros(n_sim)\n",
    "    for i in range(n_sim):\n",
    "        state = env_copy.reset()\n",
    "        done = False\n",
    "        while not done:\n",
    "            action = choose_action(state, 0.0)\n",
    "            state, reward, done, _ = env_copy.step(action)\n",
    "            episode_rewards[i] += reward\n",
    "    \n",
    "    return episode_rewards"
   ]
  },
  {
   "cell_type": "markdown",
   "id": "961f2b0a",
   "metadata": {},
   "source": [
    "#### Question 3\n",
    "\n",
    "Implement the `update` function"
   ]
  },
  {
   "cell_type": "code",
   "execution_count": 12,
   "id": "2d1e6bbc",
   "metadata": {},
   "outputs": [],
   "source": [
    "def update(state, action, reward, next_state, done, replay_buffer=replay_buffer, **kwargs):\n",
    "    \"\"\"\n",
    "    ** TO BE COMPLETED **\n",
    "    \"\"\"\n",
    "    \n",
    "    # add data to replay buffer\n",
    "    if done:\n",
    "        next_state = None\n",
    "    replay_buffer.push(state, action, reward, next_state)\n",
    "    \n",
    "    if len(replay_buffer) < BATCH_SIZE:\n",
    "        return np.inf\n",
    "    \n",
    "    # get batch\n",
    "    transitions = replay_buffer.sample(BATCH_SIZE)\n",
    "\n",
    "    # Compute loss - TO BE IMPLEMENTED!\n",
    "    # ---------------------------------------------------------------------------- #\n",
    "    #                                  Build info                                  #\n",
    "    # ---------------------------------------------------------------------------- #\n",
    "    old_states = torch.FloatTensor([t[0] for t in transitions])\n",
    "    actions = torch.LongTensor([t[1] for t in transitions]).view(-1, 1)\n",
    "    rewards = torch.FloatTensor([t[2] for t in transitions]).view(-1, 1)\n",
    "    it_is_done = torch.BoolTensor([type(t[3]) != np.ndarray for t in transitions]).view(-1)\n",
    "    # --------------------------------- fill None -------------------------------- #\n",
    "    next_states_preprocess = [t[3] for t in transitions]\n",
    "    for i in range(len(next_states_preprocess)):\n",
    "        if type(next_states_preprocess[i]) != np.ndarray:\n",
    "            next_states_preprocess[i] = torch.zeros(obs_size).numpy()\n",
    "    next_states = torch.FloatTensor(next_states_preprocess)\n",
    "    # ---------------------------------------------------------------------------- #\n",
    "    #                                    Forward                                   #\n",
    "    # ---------------------------------------------------------------------------- #\n",
    "    # --------------------------------- q network -------------------------------- #\n",
    "    values  = q_net(old_states).gather(dim = 1 , index=actions).view(-1, 1) # take the logit of the taken action\n",
    "    # ------------------------------ target network ------------------------------ #\n",
    "    targets = target_net(next_states).max(dim=1)[0].detach().view(-1, 1)\n",
    "    targets[it_is_done] = 0.0\n",
    "    targets = GAMMA * targets + rewards\n",
    "    # ----------------------------------- loss ----------------------------------- #\n",
    "    loss = objective(values, targets)\n",
    "\n",
    "    # Optimize the model - UNCOMMENT!\n",
    "    optimizer.zero_grad()\n",
    "    loss.backward()\n",
    "    optimizer.step()\n",
    "    \n",
    "    return loss.detach().numpy()"
   ]
  },
  {
   "cell_type": "markdown",
   "id": "c0152c68",
   "metadata": {},
   "source": [
    "#### Question 4\n",
    "Train a DQN on the `env` environment.\n",
    "*Hint* The mean reward after training should be close to 200."
   ]
  },
  {
   "cell_type": "code",
   "execution_count": 13,
   "id": "5a59e924",
   "metadata": {},
   "outputs": [
    {
     "name": "stdout",
     "output_type": "stream",
     "text": [
      "episode = 5 , reward =  9.0\n",
      "episode = 10 , reward =  8.4\n"
     ]
    },
    {
     "name": "stderr",
     "output_type": "stream",
     "text": [
      "/tmp/ipykernel_53/3682856721.py:6: UserWarning: Creating a tensor from a list of numpy.ndarrays is extremely slow. Please consider converting the list to a single numpy.ndarray with numpy.array() before converting to a tensor. (Triggered internally at  ../torch/csrc/utils/tensor_new.cpp:201.)\n",
      "  states_v = torch.FloatTensor([states])\n"
     ]
    },
    {
     "name": "stdout",
     "output_type": "stream",
     "text": [
      "episode = 15 , reward =  10.6\n",
      "episode = 20 , reward =  11.0\n",
      "episode = 25 , reward =  10.2\n",
      "episode = 30 , reward =  10.0\n",
      "episode = 35 , reward =  9.4\n",
      "episode = 40 , reward =  8.4\n",
      "episode = 45 , reward =  10.8\n",
      "episode = 50 , reward =  11.2\n",
      "episode = 55 , reward =  13.4\n",
      "episode = 60 , reward =  11.2\n",
      "episode = 65 , reward =  10.4\n",
      "episode = 70 , reward =  11.2\n",
      "episode = 75 , reward =  25.8\n",
      "episode = 80 , reward =  16.0\n",
      "episode = 85 , reward =  11.8\n",
      "episode = 90 , reward =  15.4\n",
      "episode = 95 , reward =  15.8\n",
      "episode = 100 , reward =  56.6\n",
      "episode = 105 , reward =  36.2\n",
      "episode = 110 , reward =  73.0\n",
      "episode = 115 , reward =  94.4\n",
      "episode = 120 , reward =  200.0\n",
      "\n",
      "mean reward after training =  199.25\n"
     ]
    }
   ],
   "source": [
    "EVAL_EVERY = 5\n",
    "REWARD_THRESHOLD = 199\n",
    "\n",
    "def train(verbose = True, UPDATE_TARGET_EVERY= UPDATE_TARGET_EVERY,**kwargs):\n",
    "    state = env.reset()\n",
    "    epsilon = EPSILON_START\n",
    "    ep = 0\n",
    "    total_time = 0\n",
    "    while ep < N_EPISODES:\n",
    "        action = choose_action(state, epsilon)\n",
    "\n",
    "        # take action and update replay buffer and networks\n",
    "        next_state, reward, done, _ = env.step(action)\n",
    "        loss = update(state, action, reward, next_state, done, **kwargs)\n",
    "\n",
    "        # update state\n",
    "        state = next_state\n",
    "\n",
    "        # end episode if done\n",
    "        if done:\n",
    "            state = env.reset()\n",
    "            ep   += 1\n",
    "            if ( (ep+1)% EVAL_EVERY == 0):\n",
    "                rewards = eval_dqn()\n",
    "                if verbose:\n",
    "                    print(\"episode =\", ep+1, \", reward = \", np.mean(rewards))\n",
    "                if np.mean(rewards) >= REWARD_THRESHOLD:\n",
    "                    break\n",
    "\n",
    "            # update target network\n",
    "            if ep % UPDATE_TARGET_EVERY == 0:\n",
    "                target_net.load_state_dict(q_net.state_dict())\n",
    "            # decrease epsilon\n",
    "            epsilon = EPSILON_MIN + (EPSILON_START - EPSILON_MIN) * \\\n",
    "                            np.exp(-1. * ep / DECREASE_EPSILON )    \n",
    "\n",
    "        total_time += 1\n",
    "    return total_time, ep+1\n",
    "\n",
    "# Run the training loop\n",
    "train()\n",
    "\n",
    "# Evaluate the final policy\n",
    "rewards = eval_dqn(20)\n",
    "print(\"\")\n",
    "print(\"mean reward after training = \", np.mean(rewards))\n"
   ]
  },
  {
   "cell_type": "markdown",
   "id": "f90708d1",
   "metadata": {},
   "source": [
    "#### Question 5\n",
    "\n",
    "Experiment the policy network.\n",
    "\n",
    "(Showing a video with a jupyter notebook, you may try this cell with Chrome/Chromium instead of Firefox. Otherwise, you may skip this question.)"
   ]
  },
  {
   "cell_type": "code",
   "execution_count": 14,
   "id": "1680e663",
   "metadata": {},
   "outputs": [],
   "source": [
    "if False:\n",
    "    def show_video():\n",
    "        html = []\n",
    "        for mp4 in Path(\"videos\").glob(\"*.mp4\"):\n",
    "            video_b64 = base64.b64encode(mp4.read_bytes())\n",
    "            html.append('''<video alt=\"{}\" autoplay \n",
    "                          loop controls style=\"height: 400px;\">\n",
    "                          <source src=\"data:video/mp4;base64,{}\" type=\"video/mp4\" />\n",
    "                     </video>'''.format(mp4, video_b64.decode('ascii')))\n",
    "        ipythondisplay.display(ipythondisplay.HTML(data=\"<br>\".join(html)))\n",
    "        \n",
    "    env = Monitor(env, './videos', force=True, video_callable=lambda episode: True)\n",
    "\n",
    "    for episode in range(2):\n",
    "        done = False\n",
    "        state = env.reset()\n",
    "        while not done:\n",
    "            action = choose_action(state, 0.0)\n",
    "            state, reward, done, info = env.step(action)\n",
    "    # env.close()\n",
    "    # show_video()"
   ]
  },
  {
   "cell_type": "markdown",
   "id": "dbbb94bc",
   "metadata": {},
   "source": [
    "### Experiments: Do It Yourself"
   ]
  },
  {
   "cell_type": "markdown",
   "id": "2eae9fdf",
   "metadata": {},
   "source": [
    "Remember the set of global parameters:\n",
    "```\n",
    "# Environment\n",
    "env = gym.make(\"CartPole-v0\")\n",
    "\n",
    "# Discount factor\n",
    "GAMMA = 0.99\n",
    "\n",
    "# Batch size\n",
    "BATCH_SIZE = 256\n",
    "# Capacity of the replay buffer\n",
    "BUFFER_CAPACITY = 16384 # 10000\n",
    "# Update target net every ... episodes\n",
    "UPDATE_TARGET_EVERY = 32 # 20\n",
    "\n",
    "# Initial value of epsilon\n",
    "EPSILON_START = 1.0\n",
    "# Parameter to decrease epsilon\n",
    "DECREASE_EPSILON = 200\n",
    "# Minimum value of epislon\n",
    "EPSILON_MIN = 0.05\n",
    "\n",
    "# Number of training episodes\n",
    "N_EPISODES = 200\n",
    "\n",
    "# Learning rate\n",
    "LEARNING_RATE = 0.1\n",
    "```"
   ]
  },
  {
   "cell_type": "markdown",
   "id": "04ba2f8e",
   "metadata": {},
   "source": [
    "#### Question 6\n",
    "\n",
    "Craft an experiment and study the influence of the `BUFFER_CAPACITY` on the learning process (speed of *convergence*, training curves...) "
   ]
  },
  {
   "cell_type": "code",
   "execution_count": 17,
   "id": "418acd24",
   "metadata": {},
   "outputs": [
    {
     "name": "stdout",
     "output_type": "stream",
     "text": [
      "buffer_possiblities =  [256, 512, 1024, 2048, 4096, 8192, 16384, 32768, 65536]\n",
      "buffer_capacity =  256 \t..........\tmean_episode =  155 \tmean_time =  5091\n",
      "buffer_capacity =  512 \t..........\tmean_episode =  157 \tmean_time =  6059\n",
      "buffer_capacity =  1024 \t..........\tmean_episode =  233 \tmean_time =  13518\n",
      "buffer_capacity =  2048 \t..........\tmean_episode =  141 \tmean_time =  4868\n",
      "buffer_capacity =  4096 \t..........\tmean_episode =  164 \tmean_time =  6772\n",
      "buffer_capacity =  8192 \t..........\tmean_episode =  182 \tmean_time =  9268\n",
      "buffer_capacity =  16384 \t..........\tmean_episode =  148 \tmean_time =  5767\n",
      "buffer_capacity =  32768 \t..........\tmean_episode =  119 \tmean_time =  3238\n",
      "buffer_capacity =  65536 \t..........\tmean_episode =  146 \tmean_time =  5680\n"
     ]
    },
    {
     "data": {
      "image/png": "[encoded data removed]",
      "text/plain": [
       "<Figure size 432x288 with 1 Axes>"
      ]
     },
     "metadata": {
      "needs_background": "light"
     },
     "output_type": "display_data"
    },
    {
     "data": {
      "image/png": "[encoded data removed]",
      "text/plain": [
       "<Figure size 432x288 with 1 Axes>"
      ]
     },
     "metadata": {
      "needs_background": "light"
     },
     "output_type": "display_data"
    }
   ],
   "source": [
    "REPEAT = 10\n",
    "start = 8 # 2**8 = 256 \n",
    "iterations = 9 # 12\n",
    "buffers_possiblities = [ 2**(start + i) for i in range(iterations) ]\n",
    "episodes = []\n",
    "times  = []\n",
    "print(\"buffer_possiblities = \", buffers_possiblities)\n",
    "\n",
    "for buffer_capacity in buffers_possiblities:\n",
    "    print(\"buffer_capacity = \", buffer_capacity, \"\\t\",end=\"\")\n",
    "    mean_episode = 0\n",
    "    mean_time = 0\n",
    "    for _ in range(REPEAT):\n",
    "        print(\".\", end=\"\")\n",
    "        new_replay_buffer = ReplayBuffer(buffer_capacity)\n",
    "\n",
    "        # Re-init all networks\n",
    "        q_net = Net(obs_size, hidden_size, n_actions)\n",
    "        target_net = Net(obs_size, hidden_size, n_actions)\n",
    "        # Adam optimizer does have a memory, re-init it\n",
    "        # optimizer = optim.Adam(params=q_net.parameters(), lr=LEARNING_RATE)\n",
    "        optimizer = optim.SGD(params=q_net.parameters(), lr=LEARNING_RATE)\n",
    "        \n",
    "        total_time, total_episode = train(verbose = False, replay_buffer=new_replay_buffer)\n",
    "        mean_episode += total_episode\n",
    "        mean_time += total_time\n",
    "    mean_episode //= REPEAT\n",
    "    mean_time //= REPEAT\n",
    "    print(\"\\tmean_episode = \", mean_episode, \"\\tmean_time = \", mean_time)\n",
    "    episodes.append(mean_episode)\n",
    "    times.append(mean_time)\n",
    "\n",
    "# x axis in log\n",
    "plt.plot(np.log2(buffers_possiblities), episodes)\n",
    "plt.xlabel(\"$\\log_2(buffer size)$\")\n",
    "plt.ylabel(\"mean episodes to converge\")\n",
    "plt.show()\n",
    "\n",
    "plt.plot(np.log2(buffers_possiblities), times)\n",
    "plt.xlabel(\"$\\log_2(buffer size)$\")\n",
    "plt.ylabel(\"mean total time to converge\")\n",
    "plt.show()"
   ]
  },
  {
   "cell_type": "markdown",
   "id": "07b1533f",
   "metadata": {},
   "source": [
    "#### Question 7\n",
    "\n",
    "Craft an experiment and study the influence of the `UPDATE_TARGET_EVERY` on the learning process (speed of *convergence*, training curves...) "
   ]
  },
  {
   "cell_type": "code",
   "execution_count": 18,
   "id": "4a6aa6ef",
   "metadata": {},
   "outputs": [
    {
     "name": "stdout",
     "output_type": "stream",
     "text": [
      "update_possiblities =  [2, 4, 8, 16, 32, 64, 128]\n",
      "update_target =  2 \t..........\tmean_episode =  50 \tmean_time =  1258\n",
      "update_target =  4 \t..........\tmean_episode =  56 \tmean_time =  1492\n",
      "update_target =  8 \t..........\tmean_episode =  64 \tmean_time =  1720\n",
      "update_target =  16 \t..........\tmean_episode =  84 \tmean_time =  2292\n",
      "update_target =  32 \t..........\tmean_episode =  165 \tmean_time =  7828\n",
      "update_target =  64 \t..........\tmean_episode =  310 \tmean_time =  18444\n",
      "update_target =  128 \t..........\tmean_episode =  619 \tmean_time =  40150\n"
     ]
    },
    {
     "data": {
      "image/png": "[encoded data removed]",
      "text/plain": [
       "<Figure size 432x288 with 1 Axes>"
      ]
     },
     "metadata": {
      "needs_background": "light"
     },
     "output_type": "display_data"
    },
    {
     "data": {
      "image/png": "[encoded data removed]",
      "text/plain": [
       "<Figure size 432x288 with 1 Axes>"
      ]
     },
     "metadata": {
      "needs_background": "light"
     },
     "output_type": "display_data"
    }
   ],
   "source": [
    "REPEAT = 10\n",
    "start = 1\n",
    "iterations = 7\n",
    "update_possiblities = [ 2**(start + i) for i in range(iterations) ]\n",
    "episodes = []\n",
    "times  = []\n",
    "print(\"update_possiblities = \", update_possiblities)\n",
    "\n",
    "for update_target in update_possiblities:\n",
    "    print(\"update_target = \", update_target, \"\\t\",end=\"\")\n",
    "    mean_episode = 0\n",
    "    mean_time = 0\n",
    "    for _ in range(REPEAT):\n",
    "        print(\".\", end=\"\")\n",
    "        new_replay_buffer = ReplayBuffer(BUFFER_CAPACITY)\n",
    "\n",
    "        # Re-init all networks\n",
    "        q_net = Net(obs_size, hidden_size, n_actions)\n",
    "        target_net = Net(obs_size, hidden_size, n_actions)\n",
    "        # Adam optimizer does have a memory, re-init it\n",
    "        # optimizer = optim.Adam(params=q_net.parameters(), lr=LEARNING_RATE)\n",
    "        optimizer = optim.SGD(params=q_net.parameters(), lr=LEARNING_RATE)\n",
    "        \n",
    "        total_time, total_episode = train(verbose = False,UPDATE_TARGET_EVERY=update_target, replay_buffer=new_replay_buffer)\n",
    "        mean_episode += total_episode\n",
    "        mean_time += total_time\n",
    "    mean_episode //= REPEAT\n",
    "    mean_time //= REPEAT\n",
    "    print(\"\\tmean_episode = \", mean_episode, \"\\tmean_time = \", mean_time)\n",
    "    episodes.append(mean_episode)\n",
    "    times.append(mean_time)\n",
    "\n",
    "# x axis in log\n",
    "plt.plot(np.log2(update_possiblities), episodes)\n",
    "plt.xlabel(\"$\\log_2(update_target)$\")\n",
    "plt.ylabel(\"mean episodes to converge\")\n",
    "plt.show()\n",
    "\n",
    "plt.plot(np.log2(update_possiblities), times)\n",
    "plt.xlabel(\"$\\log_2(update_target)$\")\n",
    "plt.ylabel(\"mean total time to converge\")\n",
    "plt.show()"
   ]
  },
  {
   "cell_type": "markdown",
   "id": "2f197f12",
   "metadata": {},
   "source": [
    "#### Question 8\n",
    "\n",
    "If you have the computer power to do so, try to do a grid search on those two hyper-parameters and comment the results. Otherwise, study the influence of another hyper-parameter."
   ]
  },
  {
   "cell_type": "code",
   "execution_count": 19,
   "id": "1503ca4e-da54-4329-8c64-c8ad7aef7ab5",
   "metadata": {},
   "outputs": [
    {
     "name": "stdout",
     "output_type": "stream",
     "text": [
      "update_possiblities =  [2, 4, 8, 16, 32, 64]\n",
      "buffer_possiblities =  [256, 512, 1024, 2048, 4096, 8192, 16384, 32768, 65536]\n",
      "buffer_capacity =  256 \t\tupdate_target =  2 \t.....\tmean_episode =  43 \tmean_time =  1015\n",
      "\tupdate_target =  4 \t.....\tmean_episode =  251 \tmean_time =  4139\n",
      "\tupdate_target =  8 \t.....\tmean_episode =  69 \tmean_time =  1899\n",
      "\tupdate_target =  16 \t.....\tmean_episode =  79 \tmean_time =  1821\n",
      "\tupdate_target =  32 \t.....\tmean_episode =  172 \tmean_time =  6001\n",
      "\tupdate_target =  64 \t.....\tmean_episode =  320 \tmean_time =  10466\n",
      "buffer_capacity =  512 \t\tupdate_target =  2 \t.....\tmean_episode =  55 \tmean_time =  1515\n",
      "\tupdate_target =  4 \t.....\tmean_episode =  103 \tmean_time =  3903\n",
      "\tupdate_target =  8 \t.....\tmean_episode =  74 \tmean_time =  2076\n",
      "\tupdate_target =  16 \t.....\tmean_episode =  137 \tmean_time =  5368\n",
      "\tupdate_target =  32 \t.....\tmean_episode =  162 \tmean_time =  6987\n",
      "\tupdate_target =  64 \t.....\tmean_episode =  262 \tmean_time =  10433\n",
      "buffer_capacity =  1024 \t\tupdate_target =  2 \t.....\tmean_episode =  45 \tmean_time =  1174\n",
      "\tupdate_target =  4 \t.....\tmean_episode =  72 \tmean_time =  2154\n",
      "\tupdate_target =  8 \t.....\tmean_episode =  64 \tmean_time =  1730\n",
      "\tupdate_target =  16 \t.....\tmean_episode =  88 \tmean_time =  2808\n",
      "\tupdate_target =  32 \t.....\tmean_episode =  112 \tmean_time =  2979\n",
      "\tupdate_target =  64 \t.....\tmean_episode =  269 \tmean_time =  11412\n",
      "buffer_capacity =  2048 \t\tupdate_target =  2 \t.....\tmean_episode =  58 \tmean_time =  1617\n",
      "\tupdate_target =  4 \t.....\tmean_episode =  67 \tmean_time =  1943\n",
      "\tupdate_target =  8 \t.....\tmean_episode =  51 \tmean_time =  1399\n",
      "\tupdate_target =  16 \t.....\tmean_episode =  100 \tmean_time =  3691\n",
      "\tupdate_target =  32 \t.....\tmean_episode =  157 \tmean_time =  5198\n",
      "\tupdate_target =  64 \t.....\tmean_episode =  270 \tmean_time =  10364\n",
      "buffer_capacity =  4096 \t\tupdate_target =  2 \t.....\tmean_episode =  57 \tmean_time =  1493\n",
      "\tupdate_target =  4 \t.....\tmean_episode =  55 \tmean_time =  1569\n",
      "\tupdate_target =  8 \t.....\tmean_episode =  70 \tmean_time =  1960\n",
      "\tupdate_target =  16 \t.....\tmean_episode =  69 \tmean_time =  1803\n",
      "\tupdate_target =  32 \t.....\tmean_episode =  209 \tmean_time =  12006\n",
      "\tupdate_target =  64 \t.....\tmean_episode =  206 \tmean_time =  4903\n",
      "buffer_capacity =  8192 \t\tupdate_target =  2 \t.....\tmean_episode =  56 \tmean_time =  1507\n",
      "\tupdate_target =  4 \t.....\tmean_episode =  62 \tmean_time =  1581\n",
      "\tupdate_target =  8 \t.....\tmean_episode =  88 \tmean_time =  3118\n",
      "\tupdate_target =  16 \t.....\tmean_episode =  70 \tmean_time =  1741\n",
      "\tupdate_target =  32 \t.....\tmean_episode =  158 \tmean_time =  6167\n",
      "\tupdate_target =  64 \t.....\tmean_episode =  322 \tmean_time =  20652\n",
      "buffer_capacity =  16384 \t\tupdate_target =  2 \t.....\tmean_episode =  45 \tmean_time =  1151\n",
      "\tupdate_target =  4 \t.....\tmean_episode =  54 \tmean_time =  1443\n",
      "\tupdate_target =  8 \t.....\tmean_episode =  73 \tmean_time =  2370\n",
      "\tupdate_target =  16 \t.....\tmean_episode =  93 \tmean_time =  3237\n",
      "\tupdate_target =  32 \t.....\tmean_episode =  143 \tmean_time =  4548\n",
      "\tupdate_target =  64 \t.....\tmean_episode =  338 \tmean_time =  17866\n",
      "buffer_capacity =  32768 \t\tupdate_target =  2 \t.....\tmean_episode =  53 \tmean_time =  1371\n",
      "\tupdate_target =  4 \t.....\tmean_episode =  60 \tmean_time =  1468\n",
      "\tupdate_target =  8 \t.....\tmean_episode =  86 \tmean_time =  3333\n",
      "\tupdate_target =  16 \t.....\tmean_episode =  126 \tmean_time =  6589\n",
      "\tupdate_target =  32 \t.....\tmean_episode =  121 \tmean_time =  3451\n",
      "\tupdate_target =  64 \t.....\tmean_episode =  280 \tmean_time =  12528\n",
      "buffer_capacity =  65536 \t\tupdate_target =  2 \t.....\tmean_episode =  53 \tmean_time =  1325\n",
      "\tupdate_target =  4 \t.....\tmean_episode =  48 \tmean_time =  1296\n",
      "\tupdate_target =  8 \t.....\tmean_episode =  74 \tmean_time =  2095\n",
      "\tupdate_target =  16 \t.....\tmean_episode =  62 \tmean_time =  1701\n",
      "\tupdate_target =  32 \t.....\tmean_episode =  118 \tmean_time =  3283\n",
      "\tupdate_target =  64 \t.....\tmean_episode =  302 \tmean_time =  15832\n"
     ]
    },
    {
     "data": {
      "image/png": "[encoded data removed]",
      "text/plain": [
       "<Figure size 432x288 with 1 Axes>"
      ]
     },
     "metadata": {
      "needs_background": "light"
     },
     "output_type": "display_data"
    },
    {
     "data": {
      "image/png": "[encoded data removed]",
      "text/plain": [
       "<Figure size 432x288 with 1 Axes>"
      ]
     },
     "metadata": {
      "needs_background": "light"
     },
     "output_type": "display_data"
    }
   ],
   "source": [
    "REPEAT = 5\n",
    "start = 1\n",
    "iterations = 6\n",
    "update_possiblities = [ 2**(start + i) for i in range(iterations) ]\n",
    "print(\"update_possiblities = \", update_possiblities)\n",
    "start = 8 # 2**8 = 256 \n",
    "iterations = 9 # 12\n",
    "buffers_possiblities = [ 2**(start + i) for i in range(iterations) ]\n",
    "print(\"buffer_possiblities = \", buffers_possiblities)\n",
    "\n",
    "all_episodes = []\n",
    "all_times  = []\n",
    "\n",
    "\n",
    "for buffer_capacity in buffers_possiblities:\n",
    "    print(\"buffer_capacity = \", buffer_capacity)\n",
    "    episodes = []\n",
    "    times  = []\n",
    "    for update_target in update_possiblities:\n",
    "        print(\"\\tupdate_target = \", update_target, \"\\t\",end=\"\")\n",
    "        mean_episode = 0\n",
    "        mean_time = 0\n",
    "        for _ in range(REPEAT):\n",
    "            print(\".\", end=\"\")\n",
    "            new_replay_buffer = ReplayBuffer(buffer_capacity)\n",
    "\n",
    "            # Re-init all networks\n",
    "            q_net = Net(obs_size, hidden_size, n_actions)\n",
    "            target_net = Net(obs_size, hidden_size, n_actions)\n",
    "            # Adam optimizer does have a memory, re-init it\n",
    "            # optimizer = optim.Adam(params=q_net.parameters(), lr=LEARNING_RATE)\n",
    "            optimizer = optim.SGD(params=q_net.parameters(), lr=LEARNING_RATE)\n",
    "\n",
    "            total_time, total_episode = train(verbose = False,UPDATE_TARGET_EVERY=update_target, replay_buffer=new_replay_buffer)\n",
    "            mean_episode += total_episode\n",
    "            mean_time += total_time\n",
    "        mean_episode //= REPEAT\n",
    "        mean_time //= REPEAT\n",
    "        print(\"\\tmean_episode = \", mean_episode, \"\\tmean_time = \", mean_time)\n",
    "        episodes.append(mean_episode)\n",
    "        times.append(mean_time)\n",
    "    all_episodes.append(episodes)\n",
    "    all_times.append(times)\n",
    "\n",
    "plt.imshow(all_episodes)\n",
    "plt.show()\n",
    "\n",
    "plt.imshow(all_times)\n",
    "plt.show()\n",
    "\n",
    "# # x axis in log\n",
    "# plt.plot(np.log2(update_possiblities), episodes)\n",
    "# plt.xlabel(\"$\\log_2(update_target)$\")\n",
    "# plt.ylabel(\"mean episodes to converge\")\n",
    "# plt.show()\n",
    "\n",
    "# plt.plot(np.log2(update_possiblities), times)\n",
    "# plt.xlabel(\"$\\log_2(update_target)$\")\n",
    "# plt.ylabel(\"mean total time to converge\")\n",
    "# plt.show()"
   ]
  },
  {
   "cell_type": "code",
   "execution_count": 24,
   "id": "21dbe3fa-c1fa-4643-9110-7477a11d3d8f",
   "metadata": {},
   "outputs": [
    {
     "data": {
      "text/plain": [
       "<matplotlib.colorbar.Colorbar at 0x7f8ba0771d60>"
      ]
     },
     "execution_count": 24,
     "metadata": {},
     "output_type": "execute_result"
    },
    {
     "data": {
      "image/png": "[encoded data removed]",
      "text/plain": [
       "<Figure size 432x288 with 2 Axes>"
      ]
     },
     "metadata": {
      "needs_background": "light"
     },
     "output_type": "display_data"
    }
   ],
   "source": [
    "plt.imshow(all_episodes)\n",
    "plt.colorbar()"
   ]
  },
  {
   "cell_type": "markdown",
   "id": "cbc76ffb",
   "metadata": {},
   "source": [
    "## Discretization"
   ]
  },
  {
   "cell_type": "markdown",
   "id": "a4b35d83",
   "metadata": {},
   "source": [
    "It is natural to use a function approximator like a neural network to approximate the $Q$ function in a continuous environment. Another natural but unscalable way to do handle continuous state-action space is **discretization**."
   ]
  },
  {
   "cell_type": "markdown",
   "id": "9de1525f",
   "metadata": {},
   "source": [
    "Discretize the environment of your choice (cartpole or mountain car or both) and run one of the algorithms that you know to compute an approximation of the optimal $Q$ function."
   ]
  },
  {
   "cell_type": "markdown",
   "id": "12c32ad0",
   "metadata": {},
   "source": [
    "Once you are satisfied with your results, you may plot the *optimal phase diagram* of the system. For instance, you may get something like this for the mountain car environment.\n",
    "![Phase diagram](./phase_plot.png)"
   ]
  },
  {
   "cell_type": "code",
   "execution_count": null,
   "id": "eff4d0fd",
   "metadata": {},
   "outputs": [],
   "source": [
    "# TODO: Everything! This is an introduction to research and development"
   ]
  }
 ],
 "metadata": {
  "kernelspec": {
   "display_name": "default:Python",
   "language": "python",
   "name": "conda-env-default-py"
  },
  "language_info": {
   "codemirror_mode": {
    "name": "ipython",
    "version": 3
   },
   "file_extension": ".py",
   "mimetype": "text/x-python",
   "name": "python",
   "nbconvert_exporter": "python",
   "pygments_lexer": "ipython3",
   "version": "3.9.9"
  }
 },
 "nbformat": 4,
 "nbformat_minor": 5
}
